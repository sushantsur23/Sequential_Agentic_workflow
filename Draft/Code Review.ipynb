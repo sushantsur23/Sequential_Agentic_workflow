{
 "cells": [
  {
   "cell_type": "code",
   "execution_count": 15,
   "id": "4f6fa9e1",
   "metadata": {},
   "outputs": [],
   "source": [
    "#Installation of the required libraries\n",
    "!pip install ipykernel langchain langgraph python-dotenv langchain-groq langchain_huggingface -q\n"
   ]
  },
  {
   "cell_type": "code",
   "execution_count": 35,
   "id": "728a977e",
   "metadata": {},
   "outputs": [
    {
     "data": {
      "text/plain": [
       "AIMessage(content='Hello! 👋  How can I help you today? 😊\\n', additional_kwargs={}, response_metadata={'token_usage': {'completion_tokens': 15, 'prompt_tokens': 10, 'total_tokens': 25, 'completion_time': 0.027272727, 'prompt_time': 0.00124463, 'queue_time': 0.250376059, 'total_time': 0.028517357}, 'model_name': 'gemma2-9b-it', 'system_fingerprint': 'fp_10c08bf97d', 'service_tier': 'on_demand', 'finish_reason': 'stop', 'logprobs': None}, id='run--d57534ed-63e8-4298-82f5-1d871566320e-0', usage_metadata={'input_tokens': 10, 'output_tokens': 15, 'total_tokens': 25})"
      ]
     },
     "execution_count": 35,
     "metadata": {},
     "output_type": "execute_result"
    }
   ],
   "source": [
    "import os\n",
    "from dotenv import load_dotenv\n",
    "load_dotenv()\n",
    "\n",
    "from langchain_groq import ChatGroq\n",
    "\n",
    "\n",
    "#os.environ[\"OPENAI_API_KEY\"]=os.getenv(\"OPENAI_API_KEY\")\n",
    "os.environ[\"GROQ_API_KEY\"]=os.getenv(\"GROQ_API_KEY\")\n",
    "# model_name = os.getenv(\"MODEL_NAME\")\n",
    "# print(model_name)\n",
    "model_name = \"gemma2-9b-it\"\n",
    "\n",
    "llm=ChatGroq(model=f\"{model_name}\")\n",
    "# # llm = ChatOpenAI(model=\"gpt-4o\")\n",
    "result=llm.invoke(\"Hello\")\n",
    "result\n",
    "\n"
   ]
  },
  {
   "cell_type": "code",
   "execution_count": 36,
   "id": "d5bc4b43",
   "metadata": {},
   "outputs": [],
   "source": [
    "from typing_extensions import TypedDict\n",
    "from langgraph.graph import StateGraph, START, END\n",
    "from IPython.display import Image, display\n",
    "\n",
    "# Graph state\n",
    "class State(TypedDict):\n",
    "    topic: str\n",
    "    code: str\n",
    "    improved_code: str\n",
    "    final_code: str\n"
   ]
  },
  {
   "cell_type": "code",
   "execution_count": null,
   "id": "3763efe2",
   "metadata": {},
   "outputs": [],
   "source": [
    "# Nodes\n",
    "def generate_code(state: State):\n",
    "    \"\"\"First LLM call to generate initial code\"\"\"\n",
    "\n",
    "    msg = llm.invoke(f\"Generate a python code with proper indentation about {state['topic']}\")\n",
    "    return {\"code\": msg.content}\n",
    "\n",
    "def peer_review(state: State):\n",
    "    \"\"\"Gate function to check if the python code with the indentation is working fine with all possible test cases\"\"\"\n",
    "\n",
    "    # Simple check - does the code contain \"?\" or \"!\"\n",
    "    if \"?\" in state[\"code\"] or \"!\" in state[\"code\"]:\n",
    "        return \"Fail\"\n",
    "    return \"Pass\"\n",
    "\n",
    "def improve_code(state: State):\n",
    "    \"\"\"Second LLM call to improve the code\"\"\"\n",
    "\n",
    "    msg = llm.invoke(f\"Make sure the code work across all the possible test cases: {state['code']}\")\n",
    "    return {\"improved_code\": msg.content}\n",
    "\n",
    "# def polish_joke(state: State):\n",
    "#     \"\"\"Third LLM call for final polish\"\"\"\n",
    "\n",
    "#     msg = llm.invoke(f\"Add a surprising twist to this joke: {state['improved_joke']}\")\n",
    "#     return {\"final_joke\": msg.content}\n",
    "\n"
   ]
  },
  {
   "cell_type": "code",
   "execution_count": 42,
   "id": "e151df8e",
   "metadata": {},
   "outputs": [
    {
     "data": {
      "image/png": "[encoded data removed]",
      "text/plain": [
       "<IPython.core.display.Image object>"
      ]
     },
     "metadata": {},
     "output_type": "display_data"
    }
   ],
   "source": [
    "# Build workflow\n",
    "workflow = StateGraph(State)\n",
    "\n",
    "# Add nodes\n",
    "workflow.add_node(\"generate_code\", generate_code)\n",
    "workflow.add_node(\"improve_code\", improve_code)\n",
    "# workflow.add_node(\"polish_joke\", polish_code)\n",
    "\n",
    "# Add edges to connect nodes\n",
    "workflow.add_edge(START, \"generate_code\")\n",
    "workflow.add_conditional_edges(\"generate_code\",peer_review,{\"Fail\":\"improve_code\",\"Pass\":END})\n",
    "# workflow.add_edge(\"improve_joke\", \"polish_joke\")\n",
    "workflow.add_edge(\"improve_code\", END)\n",
    "\n",
    "# Compile\n",
    "chain = workflow.compile()\n",
    "\n",
    "# Show workflow\n",
    "display(Image(chain.get_graph().draw_mermaid_png()))\n",
    "\n"
   ]
  },
  {
   "cell_type": "code",
   "execution_count": 43,
   "id": "aa81d69c",
   "metadata": {},
   "outputs": [],
   "source": [
    "# Invoke\n",
    "state = chain.invoke({\"topic\": \"Give me a python code to get the factorial of 8\"})"
   ]
  },
  {
   "cell_type": "code",
   "execution_count": 44,
   "id": "3cf6152a",
   "metadata": {},
   "outputs": [
    {
     "data": {
      "text/plain": [
       "{'topic': 'Give me a python code to get the factorial of 8',\n",
       " 'code': '```python\\ndef factorial(n):\\n  \"\"\"\\n  This function calculates the factorial of a non-negative integer.\\n\\n  Args:\\n      n: A non-negative integer.\\n\\n  Returns:\\n      The factorial of n.\\n  \"\"\"\\n  if n == 0:\\n    return 1\\n  else:\\n    return n * factorial(n-1)\\n\\n# Calculate the factorial of 8\\nresult = factorial(8)\\n\\n# Print the result\\nprint(\"The factorial of 8 is:\", result)\\n```\\n\\n**Explanation:**\\n\\n1. **Function Definition:**\\n   - `def factorial(n):` defines a function named `factorial` that takes an integer `n` as input.\\n\\n2. **Base Case:**\\n   - `if n == 0:` checks if `n` is 0. If it is, the function returns 1 because the factorial of 0 is 1.\\n\\n3. **Recursive Case:**\\n   - `else: return n * factorial(n-1)`: If `n` is not 0, the function returns the product of `n` and the factorial of `n-1`. This is the recursive step, where the function calls itself with a smaller value of `n`.\\n\\n4. **Function Call:**\\n   - `result = factorial(8)` calls the `factorial` function with the argument 8 and stores the returned value in the `result` variable.\\n\\n5. **Output:**\\n   - `print(\"The factorial of 8 is:\", result)` prints the calculated factorial of 8.\\n\\n**How Recursion Works:**\\n\\nThe code uses recursion to calculate the factorial. Recursion means a function calls itself within its definition. In this case, `factorial(8)` calls `factorial(7)`, which calls `factorial(6)`, and so on, until `factorial(0)` is reached. The base case (`n == 0`) stops the recursion. Then, the results are multiplied back up the chain of calls to get the final factorial of 8.\\n'}"
      ]
     },
     "execution_count": 44,
     "metadata": {},
     "output_type": "execute_result"
    }
   ],
   "source": [
    "state"
   ]
  },
  {
   "cell_type": "code",
   "execution_count": null,
   "id": "dede1a2b",
   "metadata": {},
   "outputs": [],
   "source": []
  }
 ],
 "metadata": {
  "kernelspec": {
   "display_name": "langchainproject",
   "language": "python",
   "name": "python3"
  },
  "language_info": {
   "codemirror_mode": {
    "name": "ipython",
    "version": 3
   },
   "file_extension": ".py",
   "mimetype": "text/x-python",
   "name": "python",
   "nbconvert_exporter": "python",
   "pygments_lexer": "ipython3",
   "version": "3.12.11"
  }
 },
 "nbformat": 4,
 "nbformat_minor": 5
}
